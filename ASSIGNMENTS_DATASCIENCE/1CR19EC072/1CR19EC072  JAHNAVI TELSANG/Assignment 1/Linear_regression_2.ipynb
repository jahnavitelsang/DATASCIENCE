{
  "nbformat": 4,
  "nbformat_minor": 0,
  "metadata": {
    "colab": {
      "provenance": [],
      "collapsed_sections": []
    },
    "kernelspec": {
      "name": "python3",
      "display_name": "Python 3"
    },
    "language_info": {
      "name": "python"
    }
  },
  "cells": [
    {
      "cell_type": "code",
      "execution_count": 1,
      "metadata": {
        "id": "I7oqe0QqriUn"
      },
      "outputs": [],
      "source": [
        "import warnings\n",
        "warnings.filterwarnings(\"ignore\")"
      ]
    },
    {
      "cell_type": "code",
      "source": [
        "import numpy as np\n",
        "import pandas as pd\n",
        "import matplotlib.pyplot as plt\n",
        "from sklearn.linear_model import LinearRegression"
      ],
      "metadata": {
        "id": "SEOal49xsLnQ"
      },
      "execution_count": 2,
      "outputs": []
    },
    {
      "cell_type": "code",
      "source": [
        "dataset= pd.read_csv('/content/House_price_prediction_using_Linear_Regression.csv')\n",
        "X=dataset.iloc[:, :-1].values\n",
        "Y=dataset.iloc[:, -1].values"
      ],
      "metadata": {
        "id": "bdBP44ERsOyF"
      },
      "execution_count": 3,
      "outputs": []
    },
    {
      "cell_type": "code",
      "source": [
        "dataset.head()"
      ],
      "metadata": {
        "colab": {
          "base_uri": "https://localhost:8080/",
          "height": 206
        },
        "id": "XEBbyEt8ssts",
        "outputId": "411cf15c-b1dc-4edf-908e-ddf4bb89201a"
      },
      "execution_count": 4,
      "outputs": [
        {
          "output_type": "execute_result",
          "data": {
            "text/plain": [
              "    area   price\n",
              "0   8450  208500\n",
              "1   9600  181500\n",
              "2  11250  223500\n",
              "3   9550  140000\n",
              "4  14260  250000"
            ],
            "text/html": [
              "\n",
              "  <div id=\"df-e60b4d2f-3757-4871-b7d1-72e1849169a0\">\n",
              "    <div class=\"colab-df-container\">\n",
              "      <div>\n",
              "<style scoped>\n",
              "    .dataframe tbody tr th:only-of-type {\n",
              "        vertical-align: middle;\n",
              "    }\n",
              "\n",
              "    .dataframe tbody tr th {\n",
              "        vertical-align: top;\n",
              "    }\n",
              "\n",
              "    .dataframe thead th {\n",
              "        text-align: right;\n",
              "    }\n",
              "</style>\n",
              "<table border=\"1\" class=\"dataframe\">\n",
              "  <thead>\n",
              "    <tr style=\"text-align: right;\">\n",
              "      <th></th>\n",
              "      <th>area</th>\n",
              "      <th>price</th>\n",
              "    </tr>\n",
              "  </thead>\n",
              "  <tbody>\n",
              "    <tr>\n",
              "      <th>0</th>\n",
              "      <td>8450</td>\n",
              "      <td>208500</td>\n",
              "    </tr>\n",
              "    <tr>\n",
              "      <th>1</th>\n",
              "      <td>9600</td>\n",
              "      <td>181500</td>\n",
              "    </tr>\n",
              "    <tr>\n",
              "      <th>2</th>\n",
              "      <td>11250</td>\n",
              "      <td>223500</td>\n",
              "    </tr>\n",
              "    <tr>\n",
              "      <th>3</th>\n",
              "      <td>9550</td>\n",
              "      <td>140000</td>\n",
              "    </tr>\n",
              "    <tr>\n",
              "      <th>4</th>\n",
              "      <td>14260</td>\n",
              "      <td>250000</td>\n",
              "    </tr>\n",
              "  </tbody>\n",
              "</table>\n",
              "</div>\n",
              "      <button class=\"colab-df-convert\" onclick=\"convertToInteractive('df-e60b4d2f-3757-4871-b7d1-72e1849169a0')\"\n",
              "              title=\"Convert this dataframe to an interactive table.\"\n",
              "              style=\"display:none;\">\n",
              "        \n",
              "  <svg xmlns=\"http://www.w3.org/2000/svg\" height=\"24px\"viewBox=\"0 0 24 24\"\n",
              "       width=\"24px\">\n",
              "    <path d=\"M0 0h24v24H0V0z\" fill=\"none\"/>\n",
              "    <path d=\"M18.56 5.44l.94 2.06.94-2.06 2.06-.94-2.06-.94-.94-2.06-.94 2.06-2.06.94zm-11 1L8.5 8.5l.94-2.06 2.06-.94-2.06-.94L8.5 2.5l-.94 2.06-2.06.94zm10 10l.94 2.06.94-2.06 2.06-.94-2.06-.94-.94-2.06-.94 2.06-2.06.94z\"/><path d=\"M17.41 7.96l-1.37-1.37c-.4-.4-.92-.59-1.43-.59-.52 0-1.04.2-1.43.59L10.3 9.45l-7.72 7.72c-.78.78-.78 2.05 0 2.83L4 21.41c.39.39.9.59 1.41.59.51 0 1.02-.2 1.41-.59l7.78-7.78 2.81-2.81c.8-.78.8-2.07 0-2.86zM5.41 20L4 18.59l7.72-7.72 1.47 1.35L5.41 20z\"/>\n",
              "  </svg>\n",
              "      </button>\n",
              "      \n",
              "  <style>\n",
              "    .colab-df-container {\n",
              "      display:flex;\n",
              "      flex-wrap:wrap;\n",
              "      gap: 12px;\n",
              "    }\n",
              "\n",
              "    .colab-df-convert {\n",
              "      background-color: #E8F0FE;\n",
              "      border: none;\n",
              "      border-radius: 50%;\n",
              "      cursor: pointer;\n",
              "      display: none;\n",
              "      fill: #1967D2;\n",
              "      height: 32px;\n",
              "      padding: 0 0 0 0;\n",
              "      width: 32px;\n",
              "    }\n",
              "\n",
              "    .colab-df-convert:hover {\n",
              "      background-color: #E2EBFA;\n",
              "      box-shadow: 0px 1px 2px rgba(60, 64, 67, 0.3), 0px 1px 3px 1px rgba(60, 64, 67, 0.15);\n",
              "      fill: #174EA6;\n",
              "    }\n",
              "\n",
              "    [theme=dark] .colab-df-convert {\n",
              "      background-color: #3B4455;\n",
              "      fill: #D2E3FC;\n",
              "    }\n",
              "\n",
              "    [theme=dark] .colab-df-convert:hover {\n",
              "      background-color: #434B5C;\n",
              "      box-shadow: 0px 1px 3px 1px rgba(0, 0, 0, 0.15);\n",
              "      filter: drop-shadow(0px 1px 2px rgba(0, 0, 0, 0.3));\n",
              "      fill: #FFFFFF;\n",
              "    }\n",
              "  </style>\n",
              "\n",
              "      <script>\n",
              "        const buttonEl =\n",
              "          document.querySelector('#df-e60b4d2f-3757-4871-b7d1-72e1849169a0 button.colab-df-convert');\n",
              "        buttonEl.style.display =\n",
              "          google.colab.kernel.accessAllowed ? 'block' : 'none';\n",
              "\n",
              "        async function convertToInteractive(key) {\n",
              "          const element = document.querySelector('#df-e60b4d2f-3757-4871-b7d1-72e1849169a0');\n",
              "          const dataTable =\n",
              "            await google.colab.kernel.invokeFunction('convertToInteractive',\n",
              "                                                     [key], {});\n",
              "          if (!dataTable) return;\n",
              "\n",
              "          const docLinkHtml = 'Like what you see? Visit the ' +\n",
              "            '<a target=\"_blank\" href=https://colab.research.google.com/notebooks/data_table.ipynb>data table notebook</a>'\n",
              "            + ' to learn more about interactive tables.';\n",
              "          element.innerHTML = '';\n",
              "          dataTable['output_type'] = 'display_data';\n",
              "          await google.colab.output.renderOutput(dataTable, element);\n",
              "          const docLink = document.createElement('div');\n",
              "          docLink.innerHTML = docLinkHtml;\n",
              "          element.appendChild(docLink);\n",
              "        }\n",
              "      </script>\n",
              "    </div>\n",
              "  </div>\n",
              "  "
            ]
          },
          "metadata": {},
          "execution_count": 4
        }
      ]
    },
    {
      "cell_type": "code",
      "source": [
        "dataset.describe()"
      ],
      "metadata": {
        "colab": {
          "base_uri": "https://localhost:8080/",
          "height": 300
        },
        "id": "9r1mpGdXswla",
        "outputId": "bb875857-7ce6-4cf9-c6fe-5a184ceadf8d"
      },
      "execution_count": 5,
      "outputs": [
        {
          "output_type": "execute_result",
          "data": {
            "text/plain": [
              "                area          price\n",
              "count    1460.000000    1460.000000\n",
              "mean    10516.828082  180921.195890\n",
              "std      9981.264932   79442.502883\n",
              "min      1300.000000   34900.000000\n",
              "25%      7553.500000  129975.000000\n",
              "50%      9478.500000  163000.000000\n",
              "75%     11601.500000  214000.000000\n",
              "max    215245.000000  755000.000000"
            ],
            "text/html": [
              "\n",
              "  <div id=\"df-9d4370d9-2691-48c7-b1d8-d52e3af6d194\">\n",
              "    <div class=\"colab-df-container\">\n",
              "      <div>\n",
              "<style scoped>\n",
              "    .dataframe tbody tr th:only-of-type {\n",
              "        vertical-align: middle;\n",
              "    }\n",
              "\n",
              "    .dataframe tbody tr th {\n",
              "        vertical-align: top;\n",
              "    }\n",
              "\n",
              "    .dataframe thead th {\n",
              "        text-align: right;\n",
              "    }\n",
              "</style>\n",
              "<table border=\"1\" class=\"dataframe\">\n",
              "  <thead>\n",
              "    <tr style=\"text-align: right;\">\n",
              "      <th></th>\n",
              "      <th>area</th>\n",
              "      <th>price</th>\n",
              "    </tr>\n",
              "  </thead>\n",
              "  <tbody>\n",
              "    <tr>\n",
              "      <th>count</th>\n",
              "      <td>1460.000000</td>\n",
              "      <td>1460.000000</td>\n",
              "    </tr>\n",
              "    <tr>\n",
              "      <th>mean</th>\n",
              "      <td>10516.828082</td>\n",
              "      <td>180921.195890</td>\n",
              "    </tr>\n",
              "    <tr>\n",
              "      <th>std</th>\n",
              "      <td>9981.264932</td>\n",
              "      <td>79442.502883</td>\n",
              "    </tr>\n",
              "    <tr>\n",
              "      <th>min</th>\n",
              "      <td>1300.000000</td>\n",
              "      <td>34900.000000</td>\n",
              "    </tr>\n",
              "    <tr>\n",
              "      <th>25%</th>\n",
              "      <td>7553.500000</td>\n",
              "      <td>129975.000000</td>\n",
              "    </tr>\n",
              "    <tr>\n",
              "      <th>50%</th>\n",
              "      <td>9478.500000</td>\n",
              "      <td>163000.000000</td>\n",
              "    </tr>\n",
              "    <tr>\n",
              "      <th>75%</th>\n",
              "      <td>11601.500000</td>\n",
              "      <td>214000.000000</td>\n",
              "    </tr>\n",
              "    <tr>\n",
              "      <th>max</th>\n",
              "      <td>215245.000000</td>\n",
              "      <td>755000.000000</td>\n",
              "    </tr>\n",
              "  </tbody>\n",
              "</table>\n",
              "</div>\n",
              "      <button class=\"colab-df-convert\" onclick=\"convertToInteractive('df-9d4370d9-2691-48c7-b1d8-d52e3af6d194')\"\n",
              "              title=\"Convert this dataframe to an interactive table.\"\n",
              "              style=\"display:none;\">\n",
              "        \n",
              "  <svg xmlns=\"http://www.w3.org/2000/svg\" height=\"24px\"viewBox=\"0 0 24 24\"\n",
              "       width=\"24px\">\n",
              "    <path d=\"M0 0h24v24H0V0z\" fill=\"none\"/>\n",
              "    <path d=\"M18.56 5.44l.94 2.06.94-2.06 2.06-.94-2.06-.94-.94-2.06-.94 2.06-2.06.94zm-11 1L8.5 8.5l.94-2.06 2.06-.94-2.06-.94L8.5 2.5l-.94 2.06-2.06.94zm10 10l.94 2.06.94-2.06 2.06-.94-2.06-.94-.94-2.06-.94 2.06-2.06.94z\"/><path d=\"M17.41 7.96l-1.37-1.37c-.4-.4-.92-.59-1.43-.59-.52 0-1.04.2-1.43.59L10.3 9.45l-7.72 7.72c-.78.78-.78 2.05 0 2.83L4 21.41c.39.39.9.59 1.41.59.51 0 1.02-.2 1.41-.59l7.78-7.78 2.81-2.81c.8-.78.8-2.07 0-2.86zM5.41 20L4 18.59l7.72-7.72 1.47 1.35L5.41 20z\"/>\n",
              "  </svg>\n",
              "      </button>\n",
              "      \n",
              "  <style>\n",
              "    .colab-df-container {\n",
              "      display:flex;\n",
              "      flex-wrap:wrap;\n",
              "      gap: 12px;\n",
              "    }\n",
              "\n",
              "    .colab-df-convert {\n",
              "      background-color: #E8F0FE;\n",
              "      border: none;\n",
              "      border-radius: 50%;\n",
              "      cursor: pointer;\n",
              "      display: none;\n",
              "      fill: #1967D2;\n",
              "      height: 32px;\n",
              "      padding: 0 0 0 0;\n",
              "      width: 32px;\n",
              "    }\n",
              "\n",
              "    .colab-df-convert:hover {\n",
              "      background-color: #E2EBFA;\n",
              "      box-shadow: 0px 1px 2px rgba(60, 64, 67, 0.3), 0px 1px 3px 1px rgba(60, 64, 67, 0.15);\n",
              "      fill: #174EA6;\n",
              "    }\n",
              "\n",
              "    [theme=dark] .colab-df-convert {\n",
              "      background-color: #3B4455;\n",
              "      fill: #D2E3FC;\n",
              "    }\n",
              "\n",
              "    [theme=dark] .colab-df-convert:hover {\n",
              "      background-color: #434B5C;\n",
              "      box-shadow: 0px 1px 3px 1px rgba(0, 0, 0, 0.15);\n",
              "      filter: drop-shadow(0px 1px 2px rgba(0, 0, 0, 0.3));\n",
              "      fill: #FFFFFF;\n",
              "    }\n",
              "  </style>\n",
              "\n",
              "      <script>\n",
              "        const buttonEl =\n",
              "          document.querySelector('#df-9d4370d9-2691-48c7-b1d8-d52e3af6d194 button.colab-df-convert');\n",
              "        buttonEl.style.display =\n",
              "          google.colab.kernel.accessAllowed ? 'block' : 'none';\n",
              "\n",
              "        async function convertToInteractive(key) {\n",
              "          const element = document.querySelector('#df-9d4370d9-2691-48c7-b1d8-d52e3af6d194');\n",
              "          const dataTable =\n",
              "            await google.colab.kernel.invokeFunction('convertToInteractive',\n",
              "                                                     [key], {});\n",
              "          if (!dataTable) return;\n",
              "\n",
              "          const docLinkHtml = 'Like what you see? Visit the ' +\n",
              "            '<a target=\"_blank\" href=https://colab.research.google.com/notebooks/data_table.ipynb>data table notebook</a>'\n",
              "            + ' to learn more about interactive tables.';\n",
              "          element.innerHTML = '';\n",
              "          dataTable['output_type'] = 'display_data';\n",
              "          await google.colab.output.renderOutput(dataTable, element);\n",
              "          const docLink = document.createElement('div');\n",
              "          docLink.innerHTML = docLinkHtml;\n",
              "          element.appendChild(docLink);\n",
              "        }\n",
              "      </script>\n",
              "    </div>\n",
              "  </div>\n",
              "  "
            ]
          },
          "metadata": {},
          "execution_count": 5
        }
      ]
    },
    {
      "cell_type": "code",
      "source": [
        "dataset.shape"
      ],
      "metadata": {
        "colab": {
          "base_uri": "https://localhost:8080/"
        },
        "id": "PslU5NY9s2c0",
        "outputId": "61508d04-34cf-4dda-a037-f1147201c666"
      },
      "execution_count": 6,
      "outputs": [
        {
          "output_type": "execute_result",
          "data": {
            "text/plain": [
              "(1460, 2)"
            ]
          },
          "metadata": {},
          "execution_count": 6
        }
      ]
    },
    {
      "cell_type": "code",
      "source": [
        "dataset.plot(kind='scatter',x='area',y='price')\n",
        "plt.title(\"scatter plot\")\n",
        "plt.show()"
      ],
      "metadata": {
        "colab": {
          "base_uri": "https://localhost:8080/",
          "height": 295
        },
        "id": "RnWiQekWs5hx",
        "outputId": "2f52a765-f669-4bf8-e8a8-0d8d275a1650"
      },
      "execution_count": 7,
      "outputs": [
        {
          "output_type": "display_data",
          "data": {
            "text/plain": [
              "<Figure size 432x288 with 1 Axes>"
            ],
            "image/png": "[encoded data removed]"
          },
          "metadata": {
            "needs_background": "light"
          }
        }
      ]
    },
    {
      "cell_type": "code",
      "source": [
        "from sklearn.model_selection import train_test_split\n",
        "X_train,X_test,Y_train,Y_test =train_test_split(X,Y,test_size=0.20,random_state= 0)"
      ],
      "metadata": {
        "id": "aJZ4Gj4RtPah"
      },
      "execution_count": 8,
      "outputs": []
    },
    {
      "cell_type": "code",
      "source": [
        "from sklearn.linear_model import LinearRegression\n",
        "slr = LinearRegression()\n",
        "slr.fit(X_train,Y_train)"
      ],
      "metadata": {
        "colab": {
          "base_uri": "https://localhost:8080/"
        },
        "id": "6yifFNE_tUVv",
        "outputId": "1de32b67-7568-4acc-c6ad-82a45e4fd060"
      },
      "execution_count": 9,
      "outputs": [
        {
          "output_type": "execute_result",
          "data": {
            "text/plain": [
              "LinearRegression()"
            ]
          },
          "metadata": {},
          "execution_count": 9
        }
      ]
    },
    {
      "cell_type": "code",
      "source": [
        "Y_pred=slr.predict(X_test)"
      ],
      "metadata": {
        "id": "meNKl7MFtY7j"
      },
      "execution_count": 10,
      "outputs": []
    },
    {
      "cell_type": "code",
      "source": [
        "Y_pred\n"
      ],
      "metadata": {
        "colab": {
          "base_uri": "https://localhost:8080/"
        },
        "id": "-LamKsSktcA5",
        "outputId": "96e6671f-aede-41ee-c8c4-9dd3532181b3"
      },
      "execution_count": 11,
      "outputs": [
        {
          "output_type": "execute_result",
          "data": {
            "text/plain": [
              "array([221735.09096926, 178770.45529989, 174182.59296139, 179725.10140264,\n",
              "       164293.20080951, 174525.52408568, 189458.78428727, 177862.15124095,\n",
              "       190139.0854906 , 170642.06081329, 169020.08927948, 182496.35562327,\n",
              "       181128.33848961, 175708.17304405, 182800.35943075, 176749.94218919,\n",
              "       180060.61779992, 176138.22721073, 177016.87236162, 165813.21984692,\n",
              "       176972.38399955, 169405.65508409, 176883.4072754 , 176240.17970714,\n",
              "       178084.5930513 , 193935.42572059, 165103.25973554, 164767.74333826,\n",
              "       185807.031234  , 176898.23672943, 182450.01357945, 178449.76835663,\n",
              "       175155.77588168, 187612.51726136, 183134.02214628, 201722.74276465,\n",
              "       174734.99012376, 175452.36496214, 178557.2818983 , 183897.73902849,\n",
              "       184563.21077779, 174403.18108999, 177430.24339252, 182240.54754137,\n",
              "       189240.04984043, 180872.53040771, 176444.08469996, 180920.72613328,\n",
              "       181910.59218935, 181754.8829221 , 186552.21129868, 180251.54702048,\n",
              "       179067.04438035, 174981.5297969 , 184906.14190208, 176553.45192338,\n",
              "       178974.36029271, 180574.08764549, 177521.07379841, 172301.10598217,\n",
              "       177491.41489037, 179997.59262032, 179736.22349316, 187338.17236192,\n",
              "       176240.17970714, 176749.94218919, 185832.98277854, 185571.61365138,\n",
              "       171118.4570238 , 184153.54711039, 175628.46472867, 174933.33407132,\n",
              "       180097.69143498, 176173.44716403, 177724.97879123, 180931.8482238 ,\n",
              "       180095.83775323, 178047.51941624, 197099.66047284, 178510.93985448,\n",
              "       174525.52408568, 174154.78773509, 174154.78773509, 178316.30327042,\n",
              "       194600.8974699 , 176842.62627684, 180475.84251258, 173769.22193048,\n",
              "       180494.37933011, 178722.25957431, 177398.73080272, 196028.23241965,\n",
              "       185334.34238701, 186111.03504148, 168449.15529958, 181421.22020657,\n",
              "       176749.94218919, 201552.20404338, 176230.91129837, 172745.98960287,\n",
              "       182765.13947745, 174712.74594273, 177973.37214613, 175915.78540038,\n",
              "       176972.38399955, 190947.29073487, 187343.73340718, 177426.53602901,\n",
              "       180155.15556932, 173936.05328825, 169112.77336713, 175902.80962811,\n",
              "       188619.0664532 , 175637.73313744, 168102.51681178, 165457.31295035,\n",
              "       186151.81604005, 175081.62861156, 185276.87825267, 177862.15124095,\n",
              "       175081.62861156, 167859.68450215, 179613.88049747, 179530.46481859,\n",
              "       180205.20497665, 169340.77622274, 187964.71679441, 174525.52408568,\n",
              "       169101.65127661, 182238.69385962, 174266.00864027, 177039.11654265,\n",
              "       174188.15400665, 184435.30673684, 178516.50089973, 179975.34843929,\n",
              "       179530.46481859, 176842.62627684, 172301.10598217, 174438.40104329,\n",
              "       187130.56000559, 167991.29590661, 200106.33227609, 177491.41489037,\n",
              "       185091.51007737, 175424.55973585, 177723.12510948, 179728.80876615,\n",
              "       175374.51032852, 191201.24513503, 180040.22730064, 177433.95075602,\n",
              "       183280.46300476, 177448.78021005, 170632.79240453, 192120.67128448,\n",
              "       172162.0798507 , 182375.86630933, 176753.6495527 , 178093.86146007,\n",
              "       180642.67387034, 183719.78558021, 176240.17970714, 179480.41541126,\n",
              "       183343.48818436, 176935.31036449, 185065.55853283, 180101.39879849,\n",
              "       176375.4984751 , 176125.25143846, 196947.6585691 , 176749.94218919,\n",
              "       171153.6769771 , 186780.21415429, 201496.59359079, 180642.67387034,\n",
              "       174154.78773509, 181198.77839622, 174154.78773509, 178208.78972875,\n",
              "       184029.35043294, 180071.73989044, 169335.21517748, 182455.57462471,\n",
              "       184057.15565924, 182867.09197386, 164643.54666082, 174907.38252678,\n",
              "       168449.15529958, 169400.09403883, 176141.93457423, 182518.59980431,\n",
              "       180032.81257363, 177576.684251  , 174966.70034288, 175891.68753759,\n",
              "       163916.90341367, 180609.30759879, 178320.01063392, 164738.08443022,\n",
              "       175192.84951673, 169837.56293252, 173969.4195598 , 176805.55264178,\n",
              "       174306.78963883, 182761.43211394, 177491.41489037, 181662.19883445,\n",
              "       188578.28545463, 176468.18256275, 186565.18707095, 171059.1392077 ,\n",
              "       177016.87236162, 172542.08461005, 254365.45086607, 195379.44380613,\n",
              "       183237.82832444, 180420.23205999, 181747.46819509, 164682.47397763,\n",
              "       187343.73340718, 186314.94003431, 171022.06557264, 178900.21302259,\n",
              "       166764.15858617, 180874.38408946, 181929.12900688, 191749.93493389,\n",
              "       174141.81196282, 180457.30569505, 177016.87236162, 174525.52408568,\n",
              "       180642.67387034, 178835.33416124, 216713.46710058, 172301.10598217,\n",
              "       177862.15124095, 171188.89693041, 172375.25325228, 193803.81431614,\n",
              "       167666.90159984, 206931.58849038, 187141.68209611, 182032.93518504,\n",
              "       178974.36029271, 168030.22322342, 171956.32117612, 176601.64764896,\n",
              "       178974.36029271, 177893.66383075, 188214.96383106, 181065.31331001,\n",
              "       168704.96338148, 186541.08920816, 177194.8258099 , 178047.51941624,\n",
              "       168371.30066596, 167917.14863649, 260358.40397328, 279605.18161394,\n",
              "       166082.00370109, 178017.8605082 , 183701.24876268, 181198.77839622,\n",
              "       188619.0664532 , 178208.78972875, 186871.04456018, 172901.69887011,\n",
              "       182496.35562327, 180596.33182652, 178974.36029271, 181417.51284307,\n",
              "       178129.08141337, 192771.31357976, 171411.33874076, 179979.0558028 ,\n",
              "       183671.58985463, 185508.58847178, 184151.69342864, 181643.66201693,\n",
              "       179345.09664329, 192204.08696336, 175081.62861156, 181439.7570241 ,\n",
              "       173713.6114779 , 180976.33658587, 164293.20080951, 181284.04775686,\n",
              "       189783.17859403, 176972.38399955, 171059.1392077 , 174525.52408568])"
            ]
          },
          "metadata": {},
          "execution_count": 11
        }
      ]
    },
    {
      "cell_type": "code",
      "source": [
        "m=slr.coef_\n",
        "print(m)"
      ],
      "metadata": {
        "colab": {
          "base_uri": "https://localhost:8080/"
        },
        "id": "sgMkY_IctjhX",
        "outputId": "8cd6d923-b389-4dbe-f3a2-f71279461f7a"
      },
      "execution_count": 12,
      "outputs": [
        {
          "output_type": "stream",
          "name": "stdout",
          "text": [
            "[1.85368175]\n"
          ]
        }
      ]
    },
    {
      "cell_type": "code",
      "source": [
        "c=slr.intercept_\n",
        "print(c)"
      ],
      "metadata": {
        "colab": {
          "base_uri": "https://localhost:8080/"
        },
        "id": "u4dEjbnYtn2l",
        "outputId": "ca1c6ed3-6e39-4d79-ac12-2d52ccec97cb"
      },
      "execution_count": 13,
      "outputs": [
        {
          "output_type": "stream",
          "name": "stdout",
          "text": [
            "161179.01546459418\n"
          ]
        }
      ]
    },
    {
      "cell_type": "code",
      "source": [
        "#Method1 \n",
        "price=161179.01546459418+1.85368175*1                     #y(area)=intercept+coeff*area like this we can give 1,2,3,4...\n",
        "price"
      ],
      "metadata": {
        "colab": {
          "base_uri": "https://localhost:8080/"
        },
        "id": "oYFpSkKJtsLb",
        "outputId": "84555e33-c26b-42b3-d913-f2ba5919db07"
      },
      "execution_count": 14,
      "outputs": [
        {
          "output_type": "execute_result",
          "data": {
            "text/plain": [
              "161180.8691463442"
            ]
          },
          "metadata": {},
          "execution_count": 14
        }
      ]
    },
    {
      "cell_type": "code",
      "source": [
        "#Method2\n",
        "X=[[1,]]\n",
        "price=slr.predict(X)\n",
        "price"
      ],
      "metadata": {
        "colab": {
          "base_uri": "https://localhost:8080/"
        },
        "id": "CPTpahEIt7iM",
        "outputId": "50bc8600-a0cc-4c2e-ea8b-8d3d6b443316"
      },
      "execution_count": 15,
      "outputs": [
        {
          "output_type": "execute_result",
          "data": {
            "text/plain": [
              "array([161180.86914635])"
            ]
          },
          "metadata": {},
          "execution_count": 15
        }
      ]
    },
    {
      "cell_type": "code",
      "source": [
        "#Method3\n",
        "Y =m*X +c\n",
        "print(\"The Minutes of{0} Units are:{1}\".format(X[0],Y[0]))"
      ],
      "metadata": {
        "colab": {
          "base_uri": "https://localhost:8080/"
        },
        "id": "8UsmYR38uDZc",
        "outputId": "a6e0ca66-bd21-4d8c-b912-626c04e16f44"
      },
      "execution_count": 16,
      "outputs": [
        {
          "output_type": "stream",
          "name": "stdout",
          "text": [
            "The Minutes of[1] Units are:[161180.86914635]\n"
          ]
        }
      ]
    },
    {
      "cell_type": "markdown",
      "source": [
        "1.Mean squared error(MSE)"
      ],
      "metadata": {
        "id": "xs2IFZ8uuPnS"
      }
    },
    {
      "cell_type": "code",
      "source": [
        "#manually\n",
        "mse=np.mean((Y_test-Y_pred.ravel())**2)\n",
        "print(\"Mean Squared Error=\",mse)"
      ],
      "metadata": {
        "colab": {
          "base_uri": "https://localhost:8080/"
        },
        "id": "jIPcHudEuTTj",
        "outputId": "c8d1911f-5aee-4cde-e390-0fd9a0647f3d"
      },
      "execution_count": 17,
      "outputs": [
        {
          "output_type": "stream",
          "name": "stdout",
          "text": [
            "Mean Squared Error= 6314915402.010567\n"
          ]
        }
      ]
    },
    {
      "cell_type": "code",
      "source": [
        "from sklearn.metrics import mean_squared_error\n",
        "mse=mean_squared_error(Y_test,Y_pred)\n",
        "print(\"Mean Squared Error=\",mse)"
      ],
      "metadata": {
        "colab": {
          "base_uri": "https://localhost:8080/"
        },
        "id": "La1K_ecjuasi",
        "outputId": "3e1aca93-168b-4944-cf48-d9453cae0829"
      },
      "execution_count": 18,
      "outputs": [
        {
          "output_type": "stream",
          "name": "stdout",
          "text": [
            "Mean Squared Error= 6314915402.010567\n"
          ]
        }
      ]
    },
    {
      "cell_type": "markdown",
      "source": [
        "2.Root Mean Squared Value(RMSE)"
      ],
      "metadata": {
        "id": "lZskdFTzuWcs"
      }
    },
    {
      "cell_type": "code",
      "source": [
        "rmse=np.sqrt(mean_squared_error(Y_test,Y_pred))\n",
        "print(\"Root Mean Squared Error=\",rmse)"
      ],
      "metadata": {
        "colab": {
          "base_uri": "https://localhost:8080/"
        },
        "id": "osXj62k0udu8",
        "outputId": "47d5b62c-782a-4ba7-d4df-3a4f3696a943"
      },
      "execution_count": 19,
      "outputs": [
        {
          "output_type": "stream",
          "name": "stdout",
          "text": [
            "Root Mean Squared Error= 79466.44198660569\n"
          ]
        }
      ]
    },
    {
      "cell_type": "markdown",
      "source": [
        "3.Mean Absolute Error(MAE)"
      ],
      "metadata": {
        "id": "K6pubV2rugl6"
      }
    },
    {
      "cell_type": "code",
      "source": [
        "from sklearn.metrics import mean_absolute_error\n",
        "mape=np.mean(np.abs((Y_test-Y_pred.ravel())/Y_pred.ravel()))*100  #we need to do this manually\n",
        "print(\"Mean Absolute Percentage Error of the model:\",mape)"
      ],
      "metadata": {
        "colab": {
          "base_uri": "https://localhost:8080/"
        },
        "id": "mWDBg9gzuiyM",
        "outputId": "78745011-132d-4d61-a5e4-a42f15c28f38"
      },
      "execution_count": 20,
      "outputs": [
        {
          "output_type": "stream",
          "name": "stdout",
          "text": [
            "Mean Absolute Percentage Error of the model: 30.133498463482255\n"
          ]
        }
      ]
    },
    {
      "cell_type": "code",
      "source": [
        "plt.scatter(X_train,Y_train,color='red')\n",
        "plt.plot(X_train,slr.predict(X_train),color='blue')\n",
        "plt.title(' price vs area')\n",
        "plt.xlabel('area')\n",
        "plt.ylabel('price')\n",
        "plt.show()"
      ],
      "metadata": {
        "colab": {
          "base_uri": "https://localhost:8080/",
          "height": 295
        },
        "id": "_e2VftjBumrD",
        "outputId": "a374d721-5e23-4572-dde1-5be118ed9c52"
      },
      "execution_count": 21,
      "outputs": [
        {
          "output_type": "display_data",
          "data": {
            "text/plain": [
              "<Figure size 432x288 with 1 Axes>"
            ],
            "image/png": "[encoded data removed]"
          },
          "metadata": {
            "needs_background": "light"
          }
        }
      ]
    },
    {
      "cell_type": "code",
      "source": [
        "plt.scatter(X_test,Y_test,color='red')\n",
        "plt.plot(X_test,slr.predict(X_test),color='blue')\n",
        "plt.title(' price vs area')\n",
        "plt.xlabel('area')\n",
        "plt.ylabel('price')\n",
        "plt.show()"
      ],
      "metadata": {
        "colab": {
          "base_uri": "https://localhost:8080/",
          "height": 295
        },
        "id": "jor7atzgu4q7",
        "outputId": "9ecf6174-7b9c-4e4d-96f5-9209118f8db7"
      },
      "execution_count": 22,
      "outputs": [
        {
          "output_type": "display_data",
          "data": {
            "text/plain": [
              "<Figure size 432x288 with 1 Axes>"
            ],
            "image/png": "[encoded data removed]"
          },
          "metadata": {
            "needs_background": "light"
          }
        }
      ]
    }
  ]
}